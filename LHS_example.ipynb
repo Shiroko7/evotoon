{
 "cells": [
  {
   "cell_type": "code",
   "execution_count": 3,
   "metadata": {},
   "outputs": [],
   "source": [
    "## IMPORTS \n",
    "import evotoon\n",
    "from data_classes import CatParam, IntParam, FloatParam"
   ]
  },
  {
   "cell_type": "code",
   "execution_count": 4,
   "metadata": {},
   "outputs": [],
   "source": [
    "## MAKE SEED\n",
    "SEED = evotoon.make_seed(39)"
   ]
  },
  {
   "cell_type": "code",
   "execution_count": 6,
   "metadata": {},
   "outputs": [
    {
     "name": "stdout",
     "output_type": "stream",
     "text": [
      "{'float1': 0.312, 'float2': 62.7, 'int1': 49, 'int2': 29, 'cat1': '546', 'cat2': 'small'}\n",
      "{'float1': 0.282, 'float2': 115.2, 'int1': 83, 'int2': 9, 'cat1': '846', 'cat2': 'medium'}\n",
      "{'float1': 0.747, 'float2': 197.3, 'int1': 30, 'int2': 42, 'cat1': '246', 'cat2': 'medium'}\n",
      "{'float1': 0.646, 'float2': 104.3, 'int1': 53, 'int2': 1, 'cat1': '51', 'cat2': 'small'}\n",
      "{'float1': 0.552, 'float2': 147.9, 'int1': 77, 'int2': 32, 'cat1': '399', 'cat2': 'small'}\n",
      "{'float1': 0.863, 'float2': 44.2, 'int1': 91, 'int2': 16, 'cat1': '744', 'cat2': 'small'}\n",
      "{'float1': 0.054, 'float2': 80.4, 'int1': 19, 'int2': 48, 'cat1': '981', 'cat2': 'medium'}\n",
      "{'float1': 0.992, 'float2': 24.4, 'int1': 28, 'int2': 22, 'cat1': '99', 'cat2': 'big'}\n",
      "{'float1': 0.46, 'float2': 144.5, 'int1': 8, 'int2': 14, 'cat1': '318', 'cat2': 'big'}\n",
      "{'float1': 0.179, 'float2': 168.3, 'int1': 63, 'int2': 37, 'cat1': '642', 'cat2': 'small'}\n"
     ]
    }
   ],
   "source": [
    "## LHS EXAMPLE\n",
    "\n",
    "float_params = [\n",
    "\tFloatParam(\"float1\", 0.0, 1.0,3),\n",
    "\tFloatParam(\"float2\", 20.0, 200.0, 1),\n",
    "]\n",
    "int_params = [\n",
    "\tIntParam(\"int1\", 0, 100),\n",
    "\tIntParam(\"int2\", 0, 50),\n",
    "]\n",
    "cat_params = [\n",
    "\tCatParam(\"cat1\", [str(i) for i in range(0, 1000, 3)]),\n",
    "\tCatParam(\"cat2\", [\"small\", \"medium\", \"big\"]),\n",
    "]\n",
    "\n",
    "initial_values = evotoon.initialization(10, float_params, int_params, cat_params)\n",
    "\n",
    "for value in initial_values:\n",
    "\tprint(value)\n"
   ]
  }
 ],
 "metadata": {
  "kernelspec": {
   "display_name": "Python 3.10.5 64-bit",
   "language": "python",
   "name": "python3"
  },
  "language_info": {
   "codemirror_mode": {
    "name": "ipython",
    "version": 3
   },
   "file_extension": ".py",
   "mimetype": "text/x-python",
   "name": "python",
   "nbconvert_exporter": "python",
   "pygments_lexer": "ipython3",
   "version": "3.10.5"
  },
  "orig_nbformat": 4,
  "vscode": {
   "interpreter": {
    "hash": "2d30390524a96a3adaa3468e83d24f527ed04a9009c5ef8f2e529ee87c894e2b"
   }
  }
 },
 "nbformat": 4,
 "nbformat_minor": 2
}
