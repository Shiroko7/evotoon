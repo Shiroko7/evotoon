{
 "cells": [
  {
   "cell_type": "code",
   "execution_count": 1,
   "metadata": {},
   "outputs": [],
   "source": [
    "## IMPORTS \n",
    "import evotoon\n",
    "from data_classes import CatParam, IntParam, FloatParam\n",
    "\n",
    "from scipy.stats import friedmanchisquare\n",
    "import scikit_posthocs as sp\n",
    "\n",
    "import matplotlib.pyplot as plt\n",
    "import numpy as np\n",
    "import pandas as pd\n",
    "#import seaborn as sns#\n",
    "\n",
    "import random\n",
    "import warnings\n",
    "warnings.filterwarnings(\"ignore\")\n",
    "\n",
    "## MAKE SEED\n",
    "SEED = evotoon.make_seed(465)"
   ]
  },
  {
   "cell_type": "code",
   "execution_count": 2,
   "metadata": {},
   "outputs": [],
   "source": [
    "def get_best_confs(folder):\n",
    "\tcols = [\"alpha\", \"beta\", \"rho\", \"ants\", \"nnls\", \"elitistants\", \"localsearch\", \"dlb\", \"Step_Found\", \"VALUE\"]\n",
    "\n",
    "\tdf = pd.DataFrame()\n",
    "\tfor file in sorted(os.listdir(folder)):\n",
    "\t\tpath = folder + file\n",
    "\t\tdf = df.append(pd.read_csv(path, usecols= cols, sep='\\t').iloc[0])\n",
    "\n",
    "\treturn df.reset_index(drop=True)\n",
    "\n",
    "def run_acotsp(save_folder, seed, alpha, beta, rho, ants, nnls, elitistants, localsearch, dlb):\n",
    "\tinstance_list = [\n",
    "\t\t\"./ALL_tsp/a280.tsp\",\n",
    "\t\t\"./ALL_tsp/ali535.tsp\",\n",
    "\t\t\"./ALL_tsp/att48.tsp\",\n",
    "\t\t\"./ALL_tsp/d1655.tsp\",\n",
    "\t\t\"./ALL_tsp/eil101.tsp\",\n",
    "\t\t\"./ALL_tsp/eil51.tsp\",\n",
    "\t\t\"./ALL_tsp/gr202.tsp\",\n",
    "\t\t\"./ALL_tsp/gr229.tsp\",\n",
    "\t\t\"./ALL_tsp/gr431.tsp\",\n",
    "\t\t\"./ALL_tsp/gr666.tsp\",\n",
    "\t\t\"./ALL_tsp/kroA150.tsp\",\n",
    "\t\t\"./ALL_tsp/kroB100.tsp\",\n",
    "\t\t\"./ALL_tsp/kroB150.tsp\",\n",
    "\t\t\"./ALL_tsp/kroB200.tsp\",\n",
    "\t\t\"./ALL_tsp/p654.tsp\",\n",
    "\t\t\"./ALL_tsp/pcb1173.tsp\",\n",
    "\t\t\"./ALL_tsp/pr124.tsp\",\n",
    "\t\t\"./ALL_tsp/pr136.tsp\",\n",
    "\t\t\"./ALL_tsp/pr264.tsp\",\n",
    "\t\t\"./ALL_tsp/pr76.tsp\",\n",
    "\t\t\"./ALL_tsp/rat575.tsp\",\n",
    "\t\t\"./ALL_tsp/rat99.tsp\",\n",
    "\t\t\"./ALL_tsp/rd100.tsp\",\n",
    "\t\t\"./ALL_tsp/rl1304.tsp\",\n",
    "\t\t\"./ALL_tsp/rl1323.tsp\",\n",
    "\t\t\"./ALL_tsp/u1432.tsp\",\n",
    "\t\t\"./ALL_tsp/vm1748.tsp\",\n",
    "\t]\n",
    "\tif not os.path.exists(save_folder):\n",
    "\t\tos.makedirs(save_folder)\n",
    "\tfor file in instance_list:\n",
    "\t\tf_name = file.split(\"/\")[-1].split(\".\")[0]\n",
    "\t\tf = open(save_folder+\"/\"+f_name+\"-\"+str(seed)+\".txt\", \"a\")\n",
    "\t\ttry:\n",
    "\t\t\tout = evotoon.execute_ACOTSP(file, seed, optimal_solutions[f_name], \"./ACOTSP-master/acotsp\", alpha, beta, rho, ants, nnls, elitistants, localsearch, dlb) * -1\n",
    "\t\texcept:\n",
    "\t\t\tout = str((file, seed, optimal_solutions[f_name], \"./ACOTSP-master/acotsp\", alpha, beta, rho, ants, nnls, elitistants, localsearch, dlb))\n",
    "\t\tf.write(str(out)+\"\\n\")\n",
    "\t\tf.close()\n",
    "\n",
    "def get_evaluations(folder):\n",
    "\tall_lines = []\n",
    "\tindexes = []\n",
    "\tfor file in os.listdir(folder):\n",
    "\t\tfile_path = os.path.join(folder, file)\n",
    "\t\tf = open(file_path, \"r\")\n",
    "\t\tlines = f.readlines()[0]\n",
    "\t\tlines = [float(lines.rstrip(\"\\n\"))]\n",
    "\t\tall_lines = all_lines + lines\n",
    "\t\tindexes = indexes + [f\"{file}_{i}\" for i, line in enumerate(lines)]\n",
    "\treturn pd.Series(all_lines, index=indexes)\n",
    "\t\n",
    "def rank_executions(path):\n",
    "\tdf = pd.DataFrame()\n",
    "\ttry:\n",
    "\t\texec_folders = sorted([file for file in os.listdir(path) if \".txt\" not in file], key=float)\n",
    "\texcept:\n",
    "\t\texec_folders = [file for file in os.listdir(path) if \".txt\" not in file]\n",
    "\tfor folder in exec_folders:\n",
    "\t\tdf = pd.concat([df, get_evaluations(path+folder)], axis=1)\n",
    "\tdf.columns = exec_folders\n",
    "\tdf = df.rank(axis=1, numeric_only=True)\n",
    "\tdf = df * -1\n",
    "\treturn df\n",
    "\n",
    "def rank_executions2(path):\n",
    "\tdf = pd.DataFrame()\n",
    "\ttry:\n",
    "\t\texec_folders = sorted([file for file in os.listdir(path) if \".txt\" not in file], key=float)\n",
    "\texcept:\n",
    "\t\texec_folders = [file for file in os.listdir(path) if \".txt\" not in file]\n",
    "\tfor folder in exec_folders:\n",
    "\t\tdf = pd.concat([df, get_evaluations(path+folder)], axis=1)\n",
    "\tdf.columns = exec_folders\n",
    "\tdf.pivot([\"optimal\", \"noptimal\"], columns=[\"index\"])\n",
    "\tdf = df.rank(axis=1, numeric_only=True)\n",
    "\tdf = df * -1\n",
    "\treturn df\n",
    "\n",
    "def scatter_plot_executions(df, xlabel, xrotate):\n",
    "\tx = [int(a) for a in df.columns]\n",
    "\ty = [-1*sum(df[a])/len(df[a]) for a in df]\n",
    "\tplt.scatter(x,y)\n",
    "\tplt.rcParams[\"figure.figsize\"] = (24,6)\n",
    "\tif xrotate:\n",
    "\t\tplt.xticks(rotation=90)\n",
    "\tplt.xlabel(xlabel)\n",
    "\tplt.ylabel(\"Rank Promedio\")\n",
    "\treturn plt\n",
    "\n",
    "def boxplot_executions(df, xlabel, xrotate):\n",
    "\tx = df.columns\n",
    "\ty = [-1*df[a] for a in df]\n",
    "\tplt.rcParams[\"figure.figsize\"] = (24,6)\n",
    "\tif xrotate:\n",
    "\t\tplt.xticks(rotation=90)\n",
    "\tplt.xlabel(xlabel)\n",
    "\tplt.ylabel(\"Rank\")\n",
    "\n",
    "\ta = plt.boxplot(y, labels=x, patch_artist=True, showfliers=False)\n",
    "\n",
    "\tfor label, box in zip(x,a[\"boxes\"]):\n",
    "\t\tbox.set_facecolor(\"darkgray\")\n",
    "\n",
    "\tfor median in a['medians']:\n",
    "\t\tmedian.set_color('white')\n",
    "\t\t\n",
    "\treturn plt\n",
    "\n"
   ]
  },
  {
   "cell_type": "code",
   "execution_count": 6,
   "metadata": {},
   "outputs": [
    {
     "data": {
      "text/plain": [
       "<module 'matplotlib.pyplot' from '/usr/local/lib/python3.9/site-packages/matplotlib/pyplot.py'>"
      ]
     },
     "execution_count": 6,
     "metadata": {},
     "output_type": "execute_result"
    },
    {
     "data": {
      "image/png": "[encoded data removed]",
      "text/plain": [
       "<Figure size 1728x432 with 1 Axes>"
      ]
     },
     "metadata": {
      "needs_background": "light"
     },
     "output_type": "display_data"
    }
   ],
   "source": [
    "df = rank_executions(\"./acotsp_optimal_exp/\")\n",
    "a = [col for col in df.columns if 'opt' in col]\n",
    "b = [col for col in df.columns if 'obj' in col]\n",
    "\n",
    "df_r = pd.lreshape(df, {'Optimal Diff' : a, 'Objective Value' : b})\n",
    "df_r\n",
    "#scatter_plot_executions(df, \"hc_max_tries\", False)\n",
    "boxplot_executions(df_r, \"Optimal Percentual Diff vs Objective Function Value\", False)\n",
    "\n"
   ]
  },
  {
   "cell_type": "code",
   "execution_count": 13,
   "metadata": {},
   "outputs": [
    {
     "data": {
      "text/html": [
       "<div>\n",
       "<style scoped>\n",
       "    .dataframe tbody tr th:only-of-type {\n",
       "        vertical-align: middle;\n",
       "    }\n",
       "\n",
       "    .dataframe tbody tr th {\n",
       "        vertical-align: top;\n",
       "    }\n",
       "\n",
       "    .dataframe thead th {\n",
       "        text-align: right;\n",
       "    }\n",
       "</style>\n",
       "<table border=\"1\" class=\"dataframe\">\n",
       "  <thead>\n",
       "    <tr style=\"text-align: right;\">\n",
       "      <th></th>\n",
       "      <th>opt_diff_1</th>\n",
       "      <th>obj_func_3</th>\n",
       "      <th>opt_diff_5</th>\n",
       "      <th>opt_diff_3</th>\n",
       "    </tr>\n",
       "  </thead>\n",
       "  <tbody>\n",
       "    <tr>\n",
       "      <th>d1655-465.txt_0</th>\n",
       "      <td>-2.0</td>\n",
       "      <td>-3.0</td>\n",
       "      <td>-7.0</td>\n",
       "      <td>-1.0</td>\n",
       "    </tr>\n",
       "    <tr>\n",
       "      <th>vm1748-468.txt_0</th>\n",
       "      <td>-3.0</td>\n",
       "      <td>-2.0</td>\n",
       "      <td>-7.0</td>\n",
       "      <td>-6.0</td>\n",
       "    </tr>\n",
       "    <tr>\n",
       "      <th>rl1304-466.txt_0</th>\n",
       "      <td>-3.0</td>\n",
       "      <td>-4.0</td>\n",
       "      <td>-6.0</td>\n",
       "      <td>-2.0</td>\n",
       "    </tr>\n",
       "    <tr>\n",
       "      <th>pr124-465.txt_0</th>\n",
       "      <td>-5.5</td>\n",
       "      <td>-5.5</td>\n",
       "      <td>-5.5</td>\n",
       "      <td>-5.5</td>\n",
       "    </tr>\n",
       "    <tr>\n",
       "      <th>kroB150-469.txt_0</th>\n",
       "      <td>-3.5</td>\n",
       "      <td>-3.5</td>\n",
       "      <td>-3.5</td>\n",
       "      <td>-9.0</td>\n",
       "    </tr>\n",
       "    <tr>\n",
       "      <th>...</th>\n",
       "      <td>...</td>\n",
       "      <td>...</td>\n",
       "      <td>...</td>\n",
       "      <td>...</td>\n",
       "    </tr>\n",
       "    <tr>\n",
       "      <th>p654-466.txt_0</th>\n",
       "      <td>-1.0</td>\n",
       "      <td>-7.0</td>\n",
       "      <td>-10.0</td>\n",
       "      <td>-3.0</td>\n",
       "    </tr>\n",
       "    <tr>\n",
       "      <th>pr124-468.txt_0</th>\n",
       "      <td>-5.5</td>\n",
       "      <td>-5.5</td>\n",
       "      <td>-5.5</td>\n",
       "      <td>-5.5</td>\n",
       "    </tr>\n",
       "    <tr>\n",
       "      <th>kroB200-466.txt_0</th>\n",
       "      <td>-3.0</td>\n",
       "      <td>-6.0</td>\n",
       "      <td>-3.0</td>\n",
       "      <td>-3.0</td>\n",
       "    </tr>\n",
       "    <tr>\n",
       "      <th>vm1748-465.txt_0</th>\n",
       "      <td>-5.0</td>\n",
       "      <td>-2.0</td>\n",
       "      <td>-6.0</td>\n",
       "      <td>-4.0</td>\n",
       "    </tr>\n",
       "    <tr>\n",
       "      <th>d1655-468.txt_0</th>\n",
       "      <td>-2.0</td>\n",
       "      <td>-3.0</td>\n",
       "      <td>-6.0</td>\n",
       "      <td>-4.0</td>\n",
       "    </tr>\n",
       "  </tbody>\n",
       "</table>\n",
       "<p>135 rows × 4 columns</p>\n",
       "</div>"
      ],
      "text/plain": [
       "                   opt_diff_1  obj_func_3  opt_diff_5  opt_diff_3\n",
       "d1655-465.txt_0          -2.0        -3.0        -7.0        -1.0\n",
       "vm1748-468.txt_0         -3.0        -2.0        -7.0        -6.0\n",
       "rl1304-466.txt_0         -3.0        -4.0        -6.0        -2.0\n",
       "pr124-465.txt_0          -5.5        -5.5        -5.5        -5.5\n",
       "kroB150-469.txt_0        -3.5        -3.5        -3.5        -9.0\n",
       "...                       ...         ...         ...         ...\n",
       "p654-466.txt_0           -1.0        -7.0       -10.0        -3.0\n",
       "pr124-468.txt_0          -5.5        -5.5        -5.5        -5.5\n",
       "kroB200-466.txt_0        -3.0        -6.0        -3.0        -3.0\n",
       "vm1748-465.txt_0         -5.0        -2.0        -6.0        -4.0\n",
       "d1655-468.txt_0          -2.0        -3.0        -6.0        -4.0\n",
       "\n",
       "[135 rows x 4 columns]"
      ]
     },
     "execution_count": 13,
     "metadata": {},
     "output_type": "execute_result"
    }
   ],
   "source": [
    "\n",
    "# compare samples\n",
    "args = tuple(df[conf] for conf in df)\n",
    "\n",
    "stat, p = friedmanchisquare(*args)\n",
    "\n",
    "# interpret\n",
    "alpha = 0.05\n",
    "if p < alpha:\n",
    "    # Different distributions (reject H0)\n",
    "    posthoc_matrix = sp.posthoc_conover(\n",
    "        pd.melt(df, var_name=\"configuration\", value_name=\"rank\"),\n",
    "        val_col=\"rank\",\n",
    "        group_col=\"configuration\",\n",
    "        p_adjust=\"holm\",\n",
    "    )\n",
    "    different_dists = posthoc_matrix.index[\n",
    "        posthoc_matrix[df.sum().idxmax()] < 0.05\n",
    "    ].tolist()\n",
    "    df.drop(different_dists, axis=1, inplace=True)\n",
    "\n",
    "df"
   ]
  },
  {
   "cell_type": "code",
   "execution_count": 13,
   "metadata": {},
   "outputs": [
    {
     "data": {
      "text/plain": [
       "<module 'matplotlib.pyplot' from '/usr/local/lib/python3.9/site-packages/matplotlib/pyplot.py'>"
      ]
     },
     "execution_count": 13,
     "metadata": {},
     "output_type": "execute_result"
    },
    {
     "data": {
      "image/png": "[encoded data removed]",
      "text/plain": [
       "<Figure size 1728x432 with 1 Axes>"
      ]
     },
     "metadata": {
      "needs_background": "light"
     },
     "output_type": "display_data"
    }
   ],
   "source": [
    "df = rank_executions(\"./acotsp_hc_max_tries_exp/\")\n",
    "#scatter_plot_executions(df, \"hc_max_tries\", False)\n",
    "boxplot_executions(df, \"hc_max_tries\", False)\n",
    "\n"
   ]
  },
  {
   "cell_type": "code",
   "execution_count": 12,
   "metadata": {},
   "outputs": [
    {
     "data": {
      "text/plain": [
       "<module 'matplotlib.pyplot' from '/usr/local/lib/python3.9/site-packages/matplotlib/pyplot.py'>"
      ]
     },
     "execution_count": 12,
     "metadata": {},
     "output_type": "execute_result"
    },
    {
     "data": {
      "image/png": "[encoded data removed]",
      "text/plain": [
       "<Figure size 1728x432 with 1 Axes>"
      ]
     },
     "metadata": {
      "needs_background": "light"
     },
     "output_type": "display_data"
    }
   ],
   "source": [
    "df = rank_executions(\"./acotsp_nseeds_exp/\")\n",
    "scatter_plot_executions(df, \"hc_max_tries\", False)\n",
    "#boxplot_executions(df, \"n_seeds\", False)\n",
    "\n"
   ]
  },
  {
   "cell_type": "code",
   "execution_count": 98,
   "metadata": {},
   "outputs": [
    {
     "data": {
      "text/plain": [
       "<module 'matplotlib.pyplot' from '/usr/local/lib/python3.9/site-packages/matplotlib/pyplot.py'>"
      ]
     },
     "execution_count": 98,
     "metadata": {},
     "output_type": "execute_result"
    },
    {
     "data": {
      "image/png": "[encoded data removed]",
      "text/plain": [
       "<Figure size 1728x432 with 1 Axes>"
      ]
     },
     "metadata": {
      "needs_background": "light"
     },
     "output_type": "display_data"
    }
   ],
   "source": [
    "df = rank_executions(\"./acotsp_nseeds_exp/\")\n",
    "#scatter_plot_executions(df, \"hc_max_tries\", False)\n",
    "boxplot_executions(df, \"n_seeds\", False)\n",
    "\n"
   ]
  },
  {
   "cell_type": "code",
   "execution_count": 5,
   "metadata": {},
   "outputs": [
    {
     "data": {
      "text/plain": [
       "<module 'matplotlib.pyplot' from '/usr/local/lib/python3.9/site-packages/matplotlib/pyplot.py'>"
      ]
     },
     "execution_count": 5,
     "metadata": {},
     "output_type": "execute_result"
    },
    {
     "data": {
      "image/png": "[encoded data removed]",
      "text/plain": [
       "<Figure size 1728x432 with 1 Axes>"
      ]
     },
     "metadata": {
      "needs_background": "light"
     },
     "output_type": "display_data"
    }
   ],
   "source": [
    "df = rank_executions(\"./acotsp_updatecycle_exp/\")\n",
    "#scatter_plot_executions(df, \"hc_max_tries\", False)\n",
    "boxplot_executions(df, \"update_cycle\", False)"
   ]
  },
  {
   "cell_type": "code",
   "execution_count": 7,
   "metadata": {},
   "outputs": [
    {
     "data": {
      "text/plain": [
       "<module 'matplotlib.pyplot' from '/usr/local/lib/python3.9/site-packages/matplotlib/pyplot.py'>"
      ]
     },
     "execution_count": 7,
     "metadata": {},
     "output_type": "execute_result"
    },
    {
     "data": {
      "image/png": "[encoded data removed]",
      "text/plain": [
       "<Figure size 1728x432 with 1 Axes>"
      ]
     },
     "metadata": {
      "needs_background": "light"
     },
     "output_type": "display_data"
    }
   ],
   "source": [
    "df = rank_executions(\"./acotsp_updatecycle_exp/\")\n",
    "#scatter_plot_executions(df, \"hc_max_tries\", False)\n",
    "boxplot_executions(df, \"update_cycle\", False)"
   ]
  },
  {
   "cell_type": "code",
   "execution_count": 87,
   "metadata": {},
   "outputs": [],
   "source": [
    "# compare samples\n",
    "args = tuple(df[conf] for conf in df)\n",
    "\n",
    "stat, p = friedmanchisquare(*args)\n",
    "\n",
    "# interpret\n",
    "alpha = 0.05\n",
    "if p < alpha:\n",
    "    # Different distributions (reject H0)\n",
    "    posthoc_matrix = sp.posthoc_conover(\n",
    "        pd.melt(df, var_name=\"configuration\", value_name=\"rank\"),\n",
    "        val_col=\"rank\",\n",
    "        group_col=\"configuration\",\n",
    "        p_adjust=\"holm\",\n",
    "    )\n",
    "    different_dists = posthoc_matrix.index[\n",
    "        posthoc_matrix[df.sum().idxmax()] < 0.05\n",
    "    ].tolist()\n",
    "    df_final = df.drop(different_dists, axis=1)"
   ]
  },
  {
   "cell_type": "code",
   "execution_count": 5,
   "metadata": {},
   "outputs": [
    {
     "data": {
      "text/plain": [
       "<module 'matplotlib.pyplot' from '/usr/local/lib/python3.9/site-packages/matplotlib/pyplot.py'>"
      ]
     },
     "execution_count": 5,
     "metadata": {},
     "output_type": "execute_result"
    },
    {
     "data": {
      "image/png": "[encoded data removed]",
      "text/plain": [
       "<Figure size 1728x432 with 1 Axes>"
      ]
     },
     "metadata": {
      "needs_background": "light"
     },
     "output_type": "display_data"
    }
   ],
   "source": [
    "df = rank_executions(\"./acotsp_population_exp/\")\n",
    "#scatter_plot_executions(df, \"hc_max_tries\", False)\n",
    "boxplot_executions(df, \"population_size\", False)"
   ]
  },
  {
   "cell_type": "code",
   "execution_count": 12,
   "metadata": {},
   "outputs": [
    {
     "data": {
      "text/plain": [
       "['update_cycle_1_4671.txt',\n",
       " 'update_cycle_2_4290.txt',\n",
       " 'update_cycle_3_4077.txt',\n",
       " 'update_cycle_4_4093.txt',\n",
       " 'update_cycle_5_4062.txt',\n",
       " 'update_cycle_6_4164.txt',\n",
       " 'update_cycle_7_4137.txt',\n",
       " 'update_cycle_8_4047.txt',\n",
       " 'update_cycle_9_4225.txt']"
      ]
     },
     "execution_count": 12,
     "metadata": {},
     "output_type": "execute_result"
    }
   ],
   "source": [
    "[file for file in sorted(os.listdir(\"./acotsp_updatecycle_exp\")) if \".txt\" in file]"
   ]
  },
  {
   "cell_type": "code",
   "execution_count": 46,
   "metadata": {},
   "outputs": [],
   "source": [
    "a = [\n",
    "\t(\"hc_max_tries\", 2, 3970),\n",
    "\t(\"hc_max_tries\", 3, 4341),\n",
    "\t(\"hc_max_tries\", 4, 4494),\n",
    "\t(\"hc_max_tries\", 5, 4537),\n",
    "\t(\"hc_max_tries\", 6, 4396),\n",
    "\t(\"hc_max_tries\", 7, 4898),\n",
    "\t(\"hc_max_tries\", 8, 4442),\n",
    "\t(\"hc_max_tries\", 9, 5031),\n",
    "\t(\"hc_max_tries\", 10, 4681),\n",
    "\t(\"hc_max_tries\", 11, 4857),\n",
    "\t(\"hc_max_tries\", 12, 4628),\n",
    "\t(\"hc_max_tries\", 13, 4472),\n",
    "\t(\"hc_max_tries\", 14, 4535),\n",
    "\t(\"hc_max_tries\", 15, 4602),\n",
    "\t(\"hc_max_tries\", 16, 4580),\n",
    "\t(\"hc_max_tries\", 17, 4572),\n",
    "\t(\"hc_max_tries\", 18, 4463),\n",
    "\t(\"hc_max_tries\", 19, 4687),\n",
    "\t(\"hc_max_tries\", 20, 4261),\n",
    "]\n",
    "\n",
    "\n",
    "\n",
    "\n",
    "\n",
    "b = [\n",
    "\t(\"hc_p_worse\", 0.0, 4844),\n",
    "\t(\"hc_p_worse\", 0.1, 4860),\n",
    "\t(\"hc_p_worse\", 0.2, 4388),\n",
    "\t(\"hc_p_worse\", 0.3, 4183),\n",
    "\t(\"hc_p_worse\", 0.4, 4305),\n",
    "\t(\"hc_p_worse\", 0.5, 4174),\n",
    "\t(\"hc_p_worse\", 0.6, 4303),\n",
    "\t(\"hc_p_worse\", 0.7, 4154),\n",
    "\t(\"hc_p_worse\", 0.8, 4063),\n",
    "\t(\"hc_p_worse\", 0.9, 4063),\n",
    "\t(\"hc_p_worse\", 1.0, 4645),\n",
    "]\n",
    "\n",
    "\n",
    "c = [\n",
    "\t(\"n_seeds\", 1, 2114),\n",
    "\t(\"n_seeds\", 2, 2476),\n",
    "\t(\"n_seeds\", 3, 3035),\n",
    "\t(\"n_seeds\", 4, 3658),\n",
    "\t(\"n_seeds\", 5, 4531),\n",
    "\t(\"n_seeds\", 6, 5168),\n",
    "\t(\"n_seeds\", 7, 6298),\n",
    "\t(\"n_seeds\", 8, 7139),\n",
    "\t(\"n_seeds\", 9, 7034),\n",
    "\t(\"n_seeds\",10, 7950),\n",
    "]\n",
    "\n",
    "d = [\n",
    "\t(\"population_size\", 2, 5412),\n",
    "\t(\"population_size\", 6, 5717),\n",
    "\t(\"population_size\", 10, 4837),\n",
    "\t(\"population_size\", 14, 5224),\n",
    "\t(\"population_size\", 18, 5370),\n",
    "\t(\"population_size\", 22, 5200),\n",
    "\t(\"population_size\", 26, 4376),\n",
    "\t(\"population_size\", 30, 4454),\n",
    "\t(\"population_size\", 34, 4072),\n",
    "\t(\"population_size\", 38, 4713),\n",
    "\t(\"population_size\", 42, 4301),\n",
    "\t(\"population_size\", 46, 4829),\n",
    "\t(\"population_size\", 50, 4234),\n",
    "]\n",
    "\n",
    "\n",
    "e = [\n",
    "\t(\"update_cycle\", 1, 4671),\n",
    "\t(\"update_cycle\", 2, 4290),\n",
    "\t(\"update_cycle\", 3, 4077),\n",
    "\t(\"update_cycle\", 4, 4093),\n",
    "\t(\"update_cycle\", 5, 4062),\n",
    "\t(\"update_cycle\", 6, 4164),\n",
    "\t(\"update_cycle\", 7, 4137),\n",
    "\t(\"update_cycle\", 8, 4047),\n",
    "]\n"
   ]
  },
  {
   "cell_type": "code",
   "execution_count": 169,
   "metadata": {},
   "outputs": [
    {
     "data": {
      "image/png": "[encoded data removed]",
      "text/plain": [
       "<Figure size 1728x432 with 1 Axes>"
      ]
     },
     "metadata": {
      "needs_background": "light"
     },
     "output_type": "display_data"
    }
   ],
   "source": [
    "def scatter_time(data):\n",
    "\tname, x, y = list(zip(*data))\n",
    "\tname = name[0]\n",
    "\tplt.xlabel(name)\n",
    "\tplt.ylabel(\"Minutes\")\n",
    "\ts = [100 for n in range(len(x))]\n",
    "\ty = [a/60 for a in y]\n",
    "\tplt.scatter(x,y,s, color=\"black\", marker=\"s\")\n",
    "\tplt.xticks(x, x)\n",
    "\n",
    "\n",
    "def bar_time(data):\n",
    "\tname, x, y = list(zip(*data))\n",
    "\tname = name[0]\n",
    "\tplt.xlabel(name)\n",
    "\tplt.ylabel(\"Minutes\")\n",
    "\ty = [a/60 for a in y]\n",
    "\tplt.bar(x,y,tick_label=x, color=\"grey\")\n",
    "\n",
    "def hist_time(data):\n",
    "\tname, x, y = list(zip(*data))\n",
    "\tname = name[0]\n",
    "\tplt.xlabel(name)\n",
    "\tplt.ylabel(\"Minutes\")\n",
    "\ty = [a/60 for a in y]\n",
    "\ta = range(1,len(x)+1)\n",
    "\tplt.bar(a,y,color=\"grey\")\n",
    "\tplt.xticks(a, x)\n",
    "hist_time(b)\n"
   ]
  },
  {
   "cell_type": "code",
   "execution_count": 153,
   "metadata": {},
   "outputs": [
    {
     "data": {
      "image/png": "[encoded data removed]",
      "text/plain": [
       "<Figure size 1728x432 with 1 Axes>"
      ]
     },
     "metadata": {
      "needs_background": "light"
     },
     "output_type": "display_data"
    }
   ],
   "source": [
    "bar_time(a)"
   ]
  },
  {
   "cell_type": "code",
   "execution_count": 154,
   "metadata": {},
   "outputs": [
    {
     "data": {
      "image/png": "[encoded data removed]",
      "text/plain": [
       "<Figure size 1728x432 with 1 Axes>"
      ]
     },
     "metadata": {
      "needs_background": "light"
     },
     "output_type": "display_data"
    }
   ],
   "source": [
    "bar_time(b)"
   ]
  },
  {
   "cell_type": "code",
   "execution_count": 155,
   "metadata": {},
   "outputs": [
    {
     "data": {
      "image/png": "[encoded data removed]",
      "text/plain": [
       "<Figure size 1728x432 with 1 Axes>"
      ]
     },
     "metadata": {
      "needs_background": "light"
     },
     "output_type": "display_data"
    }
   ],
   "source": [
    "bar_time(c)"
   ]
  },
  {
   "cell_type": "code",
   "execution_count": 156,
   "metadata": {},
   "outputs": [
    {
     "data": {
      "image/png": "[encoded data removed]",
      "text/plain": [
       "<Figure size 1728x432 with 1 Axes>"
      ]
     },
     "metadata": {
      "needs_background": "light"
     },
     "output_type": "display_data"
    }
   ],
   "source": [
    "bar_time(d)"
   ]
  },
  {
   "cell_type": "code",
   "execution_count": 157,
   "metadata": {},
   "outputs": [
    {
     "data": {
      "image/png": "[encoded data removed]",
      "text/plain": [
       "<Figure size 1728x432 with 1 Axes>"
      ]
     },
     "metadata": {
      "needs_background": "light"
     },
     "output_type": "display_data"
    }
   ],
   "source": [
    "bar_time(e)"
   ]
  },
  {
   "cell_type": "code",
   "execution_count": 193,
   "metadata": {},
   "outputs": [
    {
     "data": {
      "text/plain": [
       "<module 'matplotlib.pyplot' from '/usr/local/lib/python3.9/site-packages/matplotlib/pyplot.py'>"
      ]
     },
     "execution_count": 193,
     "metadata": {},
     "output_type": "execute_result"
    },
    {
     "data": {
      "image/png": "[encoded data removed]",
      "text/plain": [
       "<Figure size 1728x432 with 1 Axes>"
      ]
     },
     "metadata": {
      "needs_background": "light"
     },
     "output_type": "display_data"
    }
   ],
   "source": [
    "def boxplot_executions2(df, xlabel, xrotate):\n",
    "\tx = df.columns\n",
    "\ty = [-1*df[a] for a in df]\n",
    "\n",
    "\tplt.rcParams[\"figure.figsize\"] = (24,6)\n",
    "\tif xrotate:\n",
    "\t\tplt.xticks(rotation=90)\n",
    "\tplt.xlabel(xlabel)\n",
    "\tplt.ylabel(\"Rank\")\n",
    "\n",
    "\ta = plt.boxplot(y, labels=x, patch_artist=True, showfliers=False)\n",
    "\n",
    "\tfor label, box in zip(x,a[\"boxes\"]):\n",
    "\t\tbox.set_facecolor(\"darkgray\")\n",
    "\n",
    "\tfor median in a['medians']:\n",
    "\t\tmedian.set_color('white')\n",
    "\t\t\n",
    "\treturn plt\n",
    "\n",
    "df = rank_executions(\"./acotsp_updatecycle_exp/\")\n",
    "df=df.drop(columns=[\"9\",\"10\"])\n",
    "#scatter_plot_executions(df, \"hc_max_tries\", False)\n",
    "boxplot_executions(df, \"update_cycle\", False)\n"
   ]
  },
  {
   "cell_type": "code",
   "execution_count": 178,
   "metadata": {},
   "outputs": [],
   "source": [
    "a=[1,2,3,4,6,7,5]"
   ]
  },
  {
   "cell_type": "code",
   "execution_count": 179,
   "metadata": {},
   "outputs": [
    {
     "data": {
      "text/plain": [
       "[1, 2, 3, 4, 6]"
      ]
     },
     "execution_count": 179,
     "metadata": {},
     "output_type": "execute_result"
    }
   ],
   "source": [
    "a[:-2]"
   ]
  },
  {
   "cell_type": "code",
   "execution_count": null,
   "metadata": {},
   "outputs": [],
   "source": []
  }
 ],
 "metadata": {
  "kernelspec": {
   "display_name": "Python 3.10.5 64-bit",
   "language": "python",
   "name": "python3"
  },
  "language_info": {
   "codemirror_mode": {
    "name": "ipython",
    "version": 3
   },
   "file_extension": ".py",
   "mimetype": "text/x-python",
   "name": "python",
   "nbconvert_exporter": "python",
   "pygments_lexer": "ipython3",
   "version": "3.10.5"
  },
  "orig_nbformat": 4,
  "vscode": {
   "interpreter": {
    "hash": "2d30390524a96a3adaa3468e83d24f527ed04a9009c5ef8f2e529ee87c894e2b"
   }
  }
 },
 "nbformat": 4,
 "nbformat_minor": 2
}
